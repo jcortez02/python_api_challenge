{
 "cells": [
  {
   "cell_type": "markdown",
   "metadata": {},
   "source": [
    "# WeatherPy\n",
    "----\n",
    "\n",
    "#### Note\n",
    "* Instructions have been included for each segment. You do not have to follow them exactly, but they are included to help you think through the steps."
   ]
  },
  {
   "cell_type": "code",
   "execution_count": 59,
   "metadata": {
    "scrolled": true
   },
   "outputs": [
    {
     "data": {
      "text/plain": [
       "'http://api.openweathermap.org/data/2.5/weather?appid=dcc4902355287fcca79c61c93837a37c&units=imperial&q='"
      ]
     },
     "execution_count": 59,
     "metadata": {},
     "output_type": "execute_result"
    }
   ],
   "source": [
    "# Dependencies and Setup\n",
    "import matplotlib.pyplot as plt\n",
    "import pandas as pd\n",
    "import numpy as np\n",
    "import requests\n",
    "import time\n",
    "from scipy.stats import linregress\n",
    "\n",
    "# Import API key\n",
    "from api_keys import weather_api_key\n",
    "#weather_api_key = 'dcc4902355287fcca79c61c93837a37c'\n",
    "\n",
    "\n",
    "# Incorporated citipy to determine city based on latitude and longitude\n",
    "from citipy import citipy\n",
    "\n",
    "# Output File (CSV)\n",
    "output_data_file = '/Users/jacobcortez/Documents/GitHub/DS_Repos/HW_Repo/python_api_challenge/resources/cities.csv'\n",
    "\n",
    "# Range of latitudes and longitudes\n",
    "lat_range = (-90, 90)\n",
    "lng_range = (-180, 180)\n",
    "\n",
    "# Assign URL variable\n",
    "base_url = 'http://api.openweathermap.org/data/2.5/weather?'\n",
    "units = 'imperial'\n",
    "query_url = f'{base_url}appid={weather_api_key}&units={units}&q='\n",
    "\n",
    "\n",
    "query_url\n",
    "\n",
    "\n",
    "# api.openweathermap.org/data/2.5/weather?q={city name}&appid={API key}\n"
   ]
  },
  {
   "cell_type": "markdown",
   "metadata": {},
   "source": [
    "## Generate Cities List"
   ]
  },
  {
   "cell_type": "code",
   "execution_count": 60,
   "metadata": {},
   "outputs": [
    {
     "data": {
      "text/plain": [
       "628"
      ]
     },
     "execution_count": 60,
     "metadata": {},
     "output_type": "execute_result"
    }
   ],
   "source": [
    "# List for holding lat_lngs and cities\n",
    "lat_lngs = []\n",
    "cities = []\n",
    "\n",
    "# Create a set of random lat and lng combinations\n",
    "lats = np.random.uniform(lat_range[0], lat_range[1], size=1500)\n",
    "lngs = np.random.uniform(lng_range[0], lng_range[1], size=1500)\n",
    "lat_lngs = zip(lats, lngs)\n",
    "\n",
    "# Identify nearest city for each lat, lng combination\n",
    "for lat_lng in lat_lngs:\n",
    "    city = citipy.nearest_city(lat_lng[0], lat_lng[1]).city_name\n",
    "    \n",
    "    # If the city is unique, then add it to a our cities list\n",
    "    if city not in cities:\n",
    "        cities.append(city)\n",
    "\n",
    "# Print the city count to confirm sufficient count\n",
    "len(cities)"
   ]
  },
  {
   "cell_type": "markdown",
   "metadata": {},
   "source": [
    "### Perform API Calls\n",
    "* Perform a weather check on each city using a series of successive API calls.\n",
    "* Include a print log of each city as it'sbeing processed (with the city number and city name).\n"
   ]
  },
  {
   "cell_type": "code",
   "execution_count": 61,
   "metadata": {
    "scrolled": true
   },
   "outputs": [
    {
     "name": "stdout",
     "output_type": "stream",
     "text": [
      "This code does not work\n",
      "This code does not work\n",
      "This code does not work\n",
      "This code does not work\n",
      "This code does not work\n",
      "This code does not work\n",
      "This code does not work\n",
      "This code does not work\n",
      "This code does not work\n",
      "This code does not work\n",
      "This code does not work\n",
      "This code does not work\n",
      "This code does not work\n",
      "This code does not work\n",
      "This code does not work\n",
      "This code does not work\n",
      "This code does not work\n",
      "This code does not work\n",
      "This code does not work\n",
      "This code does not work\n",
      "This code does not work\n",
      "This code does not work\n",
      "This code does not work\n",
      "This code does not work\n",
      "This code does not work\n",
      "This code does not work\n",
      "This code does not work\n",
      "This code does not work\n",
      "This code does not work\n",
      "This code does not work\n",
      "This code does not work\n",
      "This code does not work\n",
      "This code does not work\n",
      "This code does not work\n",
      "This code does not work\n",
      "This code does not work\n",
      "This code does not work\n",
      "This code does not work\n",
      "This code does not work\n",
      "This code does not work\n",
      "This code does not work\n",
      "This code does not work\n",
      "This code does not work\n",
      "This code does not work\n",
      "This code does not work\n",
      "This code does not work\n",
      "This code does not work\n",
      "This code does not work\n",
      "['Cherskiy', 'Praia da Vitória', 'Sinnamary', 'Dikson', 'Pevek', 'Poplar Bluff', 'Punta Arenas', 'Mataura', 'Burns Lake', 'Copiapó', 'Baker City', 'Nikolskoye', \"Tegul'det\", 'Maués', 'Rikitea', 'Klaksvík', 'Kapaa', 'Ponta do Sol', 'Busselton', 'Tungor', 'Aswān', 'Timbiquí', 'Ushuaia', 'Matara', 'Chokurdakh', 'Port Alfred', 'Hermanus', 'Ribeira Grande', 'George Town', 'Saskylakh', 'Cape Town', 'Alofi', 'Norman Wells', 'Lebu', 'Sakaraha', 'Hobart', 'Thompson', 'Departamento de Maldonado', 'Salalah', 'Arraial do Cabo', 'Saint-Philippe', 'Port Blair', 'Barabinsk', 'Kaitangata', 'Owensboro', 'San Juan', 'Fuzhou', 'Port Shepstone', 'Yellowknife', 'Carnarvon', 'Vaini', 'Albany', 'Mar del Plata', 'Gao', 'Chyhyryn', 'Okha', 'Qaanaaq', 'Berdigestyakh', 'Puerto Ayora', 'Marrakesh', 'New Norfolk', 'Grindavik', 'Manadhoo', 'College', 'Viedma', 'Vostok', 'Bredasdorp', 'Boyolangu', 'Promyshlennyy', 'Lázaro Cárdenas', 'Faanui', 'Wanning', 'Bluff', 'Castro', 'Ossora', 'Felanitx', 'Jamestown', 'Mato Verde', 'Awjilah', 'Bethel', 'East London', 'Cabo San Lucas', 'Umluj', 'Huarmey', 'Barrow', 'Port Elizabeth', 'Walvis Bay', 'Sirte', 'Provincia di Imperia', 'Chui', 'Meadow Lake', 'Pochutla', 'Slavkov u Brna', 'Lagoa', 'Emmett', 'Pisco', 'Guerrero Negro', 'Vikhorevka', 'Atuona', 'Kavieng', 'Gobindpur', 'Clyde River', 'Longyearbyen', 'Houma', 'Cidreira', 'Torbay', 'Rock Springs', 'Chifeng', 'Fortuna', 'Kasongo-Lunda', 'Qasigiannguit', 'Papar', 'Toamasina', 'Bambous Virieux', 'San Patricio', 'Gayéri', 'Lavumisa', 'Puerto Concordia', 'Waddān', 'Celestún', 'Tual', 'Salinópolis', 'Tongren', 'Maniitsoq', 'Berlevåg', 'Saint Paul Harbor', 'Butaritari', 'Lavrentiya', 'Nānākuli', 'Palmer', 'Lamar', 'Sangar', 'Richards Bay', 'Matane', 'Sørland', 'Upernavik', 'Sabang', 'Touros', 'Hilo', 'Mount Gambier', 'Mbalmayo', \"Lakhdenpokh'ya\", 'Lüderitz', 'Oranjestad', 'Aroeiras', 'Mariehamn', 'Karratha', \"Ust'-Kut\", 'Madang', 'Kodinsk', 'Katangli', 'Nome', 'Leshukonskoye', 'Adiaké', 'La Unión', 'Bonavista', 'Palana', \"Mezen'\", 'La Ronge', 'Saldanha', 'Asău', 'Coquimbo', 'Flinders', \"Severo-Kuril'sk\", 'Pishin', 'General Roca', 'Zhigansk', 'Hithadhoo', 'Veinticinco de Mayo', 'Kieta', 'Campoverde', 'Almaznyy', 'Bafia', 'Kamaishi', 'Vardø', 'Manicoré', 'Burnie', 'Codrington', 'Palimbang', 'Jalu', 'Isiro', 'Kasane', 'São Filipe', 'Oranjemund', 'Ahipara', 'Ilulissat', 'Kualakapuas', 'Tuktoyaktuk', 'Lompoc', 'Novikovo', 'Petropavlovsk-Kamchatskiy', 'Yangi Marg`ilon', 'Juegang', 'Turukhansk', 'Princeton', 'Bahía Blanca', 'Portland', 'Kloulklubed', 'Santiago', 'Nokaneng', 'Lorengau', 'Teahupoo', 'Minot', 'Moses Lake', 'Guarujá', 'Laguna', 'Huilong', 'Tautira', 'Ancud', 'Laas', 'Adrar', 'Porirua', 'Srednekolymsk', 'Kiruna', 'Muhafazat Lahij', 'Mahwa', 'Skibbereen', 'Plettenberg Bay', 'Husavik', 'Half Moon Bay', 'Mbabane', 'Mamlyutka', 'Killybegs', 'Abhā', 'Georgiyevka', 'Isangel', 'Honiara', 'Manuk Mangkaw', 'Raudeberg', 'Alexandria', 'Tatarskaya Kargala', 'Fairbanks', 'Muscat', 'Vágur', 'Abashiri', 'Strezhevoy', 'Mahibadhoo', 'Mahébourg', 'Adelanto', 'Nelspruit', 'Zacatlán', 'Ulaangom', 'Sotouboua', 'Kasamwa', 'Tocopilla', 'Soyo', 'Dingle', 'Herat Province', 'Hong Kong', 'Umm Kaddadah', 'Souillac', 'Baruun-Urt', 'Troitskoye', 'Opuwo', 'Ubari', 'Sarai Alamgir', 'Majene', 'Bengkulu', 'Mardin', 'Manyoni', 'Kruisfontein', 'Hualmay', 'Gerede', 'Ascension', 'Leningradskiy', 'Port Lincoln', 'Khunti', 'Kamenka', 'Pemangkat', 'Cruzeiro do Sul', 'Kumul', 'Hargeisa', 'Coruripe', 'Korla', 'Kulhudhuffushi', 'Westport', 'Dwārka', 'Yanam', 'Mount Darwin', 'Dunnville', 'Berat', 'Bathsheba', 'Nagato', 'Kavaratti', 'Vryheid', 'Paoua', 'Arlit', 'Ayan', 'Wenling', 'Ishigaki', 'Russell', 'Vila do Maio', 'Makakilo City', 'Seymchan', 'Auki', 'Uray', 'Dudinka', 'Puri', 'Teya', 'Road Town', 'Yining', 'Nālūt', 'Provideniya', 'Ust-Nera', 'Posse', 'Avarua', 'Awasa', 'Saint George', 'Taltal', 'Port-Gentil', 'Tīrthahalli', 'Tiznit Province', 'Ballina', 'Ulladulla', 'Labuhan', 'Nanortalik', 'Hasaki', 'Batemans Bay', 'Saint Anthony', 'Surgut', 'Baykit', 'Dzaoudzi', 'Kirensk', 'Karaton', 'Marawi', 'Lufilufi', 'Pemba', 'Morón', 'Drezdenko', 'Lata', 'Boguchany', 'Faya', 'Middle Island', 'Esperance', 'Caucayá', 'Songjianghe', 'Boa Vista', 'Meulaboh', 'Sergeevka', 'Angoche', 'Podor', 'Ucluelet', 'Šalčininkai', 'Acapulco de Juárez', 'Monrovia', 'Marang', 'Kaduy', 'Necochea', 'Vicksburg', 'Black River', 'Bariloche', 'Jumla', 'Hay River', 'Gwanda', 'Bose', 'Iqaluit', 'Bhavāni', 'Xapuri', 'Lodja', 'Tarakan', 'Pahrump', 'Khovd', 'Nouadhibou', 'Geraldton', 'São João da Barra', 'Sur', 'Olafsvik', 'Vila Franca do Campo', 'Pervomayskoye', 'Iquique', 'Channel-Port aux Basques', 'Virginia Beach', 'Butte', 'Beringovskiy', 'Tuy Hoa', 'Shakawe', 'Zhangye', 'Northam', 'North Bend', 'Port Hardy', 'Orzhytsya', 'Platonovka', 'Assiut', 'Maridi', 'Gabú', 'Malvern', 'Eyl', 'Yulara', 'Bac Lieu', 'Paka', 'Maun', 'Los Llanos de Aridane', 'Inzer', 'Tateyama', \"Dobrun'\", 'Kirakira', 'Kismayo', 'Sémbé', \"St. George's\", 'Port-Cartier', 'Erzin', 'Narsaq', 'Okhotsk', 'Aklavik', 'Valentín Gómez Farías', 'Khatanga', 'West Plains', 'Varhaug', 'Makkah al Mukarramah', 'Bassum', 'Vilyuysk', 'Deputatsky', 'Rome', 'Puerto Escondido', 'Fort Nelson', 'Tutóia', 'Sorong', 'Ostrovnoy', 'Itarema', 'Cayenne', 'Sitka', 'Tanout', 'Dunedin', 'Andenes', 'Codajás', 'San Cristobal', 'Uribia', 'Acambay', 'Mareeba', 'Tongliao', 'Tacuatí', 'Wajima', 'Barra de Tecoanapa', 'Kailua', 'Dzhebariki-Khaya', 'Coyhaique', 'Shingū', 'Mumford', 'Padang', 'Mattru', 'Proletariy', 'Leeton', 'Chunskiy', 'Puerto El Triunfo', 'Puerto Madero', 'Ca Mau', 'Upata', 'Calabozo', 'Arcata', 'Lima', 'Tasiilaq', 'Alice Springs', 'Vilhena', 'Tazmalt', 'Kapit', 'Eureka', 'Leer', 'Oleksandrivka', 'Chāndil', 'Ternate', 'Fukuechō', 'Agde', 'Ayagoz', 'Iranshahr', 'Vestmannaeyjar', 'Kirkcudbright', 'Saint-Pierre', 'Price', 'Aptos', 'Roald', 'Berbera', 'Muros', 'Mildura', 'Tiksi', 'Plácido de Castro', 'Riyadh', 'Grand Gaube', 'Hobyo', 'Kemijärvi', 'Zhangjiakou', 'Kudahuvadhoo', 'Spearfish', 'Fallon', 'Bānswāda', 'Bānkura', 'Samagaltay', 'Hambantota', 'Oruzgan', 'Samarai', 'Aldama', 'Bandarbeyla', 'Broome', 'Pokhara', 'Kahului', 'Carbonia', 'Praia', 'Tigre', 'Parrita', 'Vorobyevka', 'Pangnirtung', 'Romny', 'Sola', 'Palafrugell', 'Havøysund', 'Suratgarh', 'Banyo', 'Shcheglovo', 'Binzhou', 'Nemuro', 'Aloleng', 'Talaya', 'Atar', 'San Andrés', 'Shache', 'Daokou', 'Chardara', 'Kampot', 'Banamba', 'Vung Tau', 'Tshikapa', 'Hamilton', 'Trofors', 'Santiago de Chuco', 'Takoradze', 'Imbituba', 'Churapcha', 'Pingzhuang', 'Bertoua', 'Tikhvin', 'Rzhaksa', 'Ukiah', 'Neiafu', 'Bubaque', 'Egvekinot', 'Progreso', 'Prescott', 'Ilo', 'Margate', 'Dhārchula', 'Kununurra', 'Harper', 'Mossamedes', 'Redcliffe', 'Hofn', 'Japura', 'Aksu', 'Yumen', 'Zvishavane', 'Terney', 'Strunino', 'Catuday', 'Puerto Baquerizo Moreno', 'Esmeraldas', 'Batagay-Alyta', 'Goderich', 'Pimentel', 'Mattawa', 'Stephenville', 'Camalú', 'Matagami', 'Savinka', 'Qūchān', 'Maceió', 'Soto', 'Manokwari', 'Tura', 'Biak', 'Jodhpur', 'Kołobrzeg', 'Towada', 'Senneterre', 'Talnakh', 'Sioux Lookout', 'Carutapera', 'Pacific Grove', 'Ambon City', 'Sundumbili', 'Chagoda', 'Waipawa', 'Mercedes']\n"
     ]
    }
   ],
   "source": [
    "# My lists needed to make scatter plot graphs\n",
    "# Make my empty lists for the data I need to display in my DF.\n",
    "\n",
    "lat_list = []\n",
    "long_list = []\n",
    "temp_list = []\n",
    "humidity_list = []\n",
    "cloudiness_list = []\n",
    "wind_speed_list = []\n",
    "city_name_list = []\n",
    "country_name_list = []\n",
    "unquie_id_list = []\n",
    "\n",
    "# Run loop for data to place in my lists\n",
    "\n",
    "for city in cities:\n",
    "\n",
    "    response_json = requests.get(query_url + city).json()\n",
    "\n",
    "\n",
    "    try:\n",
    "     lat = response_json['coord']['lat']\n",
    "     lat_list.append(lat)\n",
    "\n",
    "     long = response_json['coord']['lat']\n",
    "     long_list.append(long)\n",
    "\n",
    "     temp = response_json['main']['temp']\n",
    "     temp_list.append(temp)\n",
    "\n",
    "     humidity = response_json['main']['humidity']\n",
    "     humidity_list.append(humidity)\n",
    "\n",
    "     cloudiness = response_json['clouds']['all']\n",
    "     cloudiness_list.append(cloudiness)\n",
    "\n",
    "     wind_speed = response_json['wind']['speed']\n",
    "     wind_speed_list.append(wind_speed)\n",
    "\n",
    "    # Extra lists to make data frame easier to build\n",
    "     city_name = response_json['name']\n",
    "     city_name_list.append(city_name)\n",
    "\n",
    "     country_name = response_json['sys']['country']\n",
    "     country_name_list.append(country_name)\n",
    "\n",
    "     unquie_id = response_json['id']\n",
    "     unquie_id_list.append(unquie_id)\n",
    "    except:\n",
    "        print('This code does not work')\n",
    "\n",
    "print(city_name_list)\n",
    "\n"
   ]
  },
  {
   "cell_type": "markdown",
   "metadata": {},
   "source": [
    "### Convert Raw Data to DataFrame\n",
    "* Export the city data into a .csv.\n",
    "* Display the DataFrame"
   ]
  },
  {
   "cell_type": "code",
   "execution_count": 62,
   "metadata": {},
   "outputs": [
    {
     "data": {
      "text/html": [
       "<div>\n",
       "<style scoped>\n",
       "    .dataframe tbody tr th:only-of-type {\n",
       "        vertical-align: middle;\n",
       "    }\n",
       "\n",
       "    .dataframe tbody tr th {\n",
       "        vertical-align: top;\n",
       "    }\n",
       "\n",
       "    .dataframe thead th {\n",
       "        text-align: right;\n",
       "    }\n",
       "</style>\n",
       "<table border=\"1\" class=\"dataframe\">\n",
       "  <thead>\n",
       "    <tr style=\"text-align: right;\">\n",
       "      <th></th>\n",
       "      <th>City ID</th>\n",
       "      <th>City</th>\n",
       "      <th>Country</th>\n",
       "      <th>Latitude</th>\n",
       "      <th>Longitude</th>\n",
       "      <th>Temperature</th>\n",
       "      <th>Humidity</th>\n",
       "      <th>Cloudiness</th>\n",
       "      <th>Wind Speed</th>\n",
       "    </tr>\n",
       "  </thead>\n",
       "  <tbody>\n",
       "    <tr>\n",
       "      <th>0</th>\n",
       "      <td>2126199</td>\n",
       "      <td>Cherskiy</td>\n",
       "      <td>RU</td>\n",
       "      <td>68.7500</td>\n",
       "      <td>68.7500</td>\n",
       "      <td>-6.03</td>\n",
       "      <td>100</td>\n",
       "      <td>96</td>\n",
       "      <td>3.51</td>\n",
       "    </tr>\n",
       "    <tr>\n",
       "      <th>1</th>\n",
       "      <td>3372760</td>\n",
       "      <td>Praia da Vitória</td>\n",
       "      <td>PT</td>\n",
       "      <td>38.7333</td>\n",
       "      <td>38.7333</td>\n",
       "      <td>66.45</td>\n",
       "      <td>82</td>\n",
       "      <td>75</td>\n",
       "      <td>10.83</td>\n",
       "    </tr>\n",
       "    <tr>\n",
       "      <th>2</th>\n",
       "      <td>3380290</td>\n",
       "      <td>Sinnamary</td>\n",
       "      <td>GF</td>\n",
       "      <td>5.3833</td>\n",
       "      <td>5.3833</td>\n",
       "      <td>78.44</td>\n",
       "      <td>88</td>\n",
       "      <td>100</td>\n",
       "      <td>11.95</td>\n",
       "    </tr>\n",
       "    <tr>\n",
       "      <th>3</th>\n",
       "      <td>1507390</td>\n",
       "      <td>Dikson</td>\n",
       "      <td>RU</td>\n",
       "      <td>73.5069</td>\n",
       "      <td>73.5069</td>\n",
       "      <td>8.06</td>\n",
       "      <td>87</td>\n",
       "      <td>99</td>\n",
       "      <td>12.55</td>\n",
       "    </tr>\n",
       "    <tr>\n",
       "      <th>4</th>\n",
       "      <td>2122090</td>\n",
       "      <td>Pevek</td>\n",
       "      <td>RU</td>\n",
       "      <td>69.7008</td>\n",
       "      <td>69.7008</td>\n",
       "      <td>10.90</td>\n",
       "      <td>93</td>\n",
       "      <td>100</td>\n",
       "      <td>7.14</td>\n",
       "    </tr>\n",
       "  </tbody>\n",
       "</table>\n",
       "</div>"
      ],
      "text/plain": [
       "   City ID              City Country  Latitude  Longitude  Temperature  \\\n",
       "0  2126199          Cherskiy      RU   68.7500    68.7500        -6.03   \n",
       "1  3372760  Praia da Vitória      PT   38.7333    38.7333        66.45   \n",
       "2  3380290         Sinnamary      GF    5.3833     5.3833        78.44   \n",
       "3  1507390            Dikson      RU   73.5069    73.5069         8.06   \n",
       "4  2122090             Pevek      RU   69.7008    69.7008        10.90   \n",
       "\n",
       "   Humidity  Cloudiness  Wind Speed  \n",
       "0       100          96        3.51  \n",
       "1        82          75       10.83  \n",
       "2        88         100       11.95  \n",
       "3        87          99       12.55  \n",
       "4        93         100        7.14  "
      ]
     },
     "execution_count": 62,
     "metadata": {},
     "output_type": "execute_result"
    }
   ],
   "source": [
    "# Create a DF from all lists and display \n",
    "weather_df = pd.DataFrame({'City ID': unquie_id_list,'City': city_name_list, 'Country': country_name_list, 'Latitude': lat_list,'Longitude': long_list, 'Temperature': temp_list, 'Humidity': humidity_list,'Cloudiness': cloudiness_list, 'Wind Speed': wind_speed_list})\n",
    "weather_df.head()"
   ]
  },
  {
   "cell_type": "code",
   "execution_count": 63,
   "metadata": {},
   "outputs": [],
   "source": [
    "weather_df.to_csv('/Users/jacobcortez/Documents/GitHub/DS_Repos/HW_Repo/python_api_challenge/weather_py/weather_df.csv', index=False,header=True)"
   ]
  },
  {
   "cell_type": "markdown",
   "metadata": {},
   "source": [
    "## Inspect the data and remove the cities where the humidity > 100%.\n",
    "----\n",
    "Skip this step if there are no cities that have humidity > 100%. "
   ]
  },
  {
   "cell_type": "code",
   "execution_count": 64,
   "metadata": {},
   "outputs": [
    {
     "data": {
      "text/html": [
       "<div>\n",
       "<style scoped>\n",
       "    .dataframe tbody tr th:only-of-type {\n",
       "        vertical-align: middle;\n",
       "    }\n",
       "\n",
       "    .dataframe tbody tr th {\n",
       "        vertical-align: top;\n",
       "    }\n",
       "\n",
       "    .dataframe thead th {\n",
       "        text-align: right;\n",
       "    }\n",
       "</style>\n",
       "<table border=\"1\" class=\"dataframe\">\n",
       "  <thead>\n",
       "    <tr style=\"text-align: right;\">\n",
       "      <th></th>\n",
       "      <th>City ID</th>\n",
       "      <th>City</th>\n",
       "      <th>Country</th>\n",
       "      <th>Latitude</th>\n",
       "      <th>Longitude</th>\n",
       "      <th>Temperature</th>\n",
       "      <th>Humidity</th>\n",
       "      <th>Cloudiness</th>\n",
       "      <th>Wind Speed</th>\n",
       "    </tr>\n",
       "  </thead>\n",
       "  <tbody>\n",
       "    <tr>\n",
       "      <th>0</th>\n",
       "      <td>2126199</td>\n",
       "      <td>Cherskiy</td>\n",
       "      <td>RU</td>\n",
       "      <td>68.7500</td>\n",
       "      <td>68.7500</td>\n",
       "      <td>-6.03</td>\n",
       "      <td>100</td>\n",
       "      <td>96</td>\n",
       "      <td>3.51</td>\n",
       "    </tr>\n",
       "    <tr>\n",
       "      <th>155</th>\n",
       "      <td>5905393</td>\n",
       "      <td>Bonavista</td>\n",
       "      <td>CA</td>\n",
       "      <td>48.6499</td>\n",
       "      <td>48.6499</td>\n",
       "      <td>53.60</td>\n",
       "      <td>100</td>\n",
       "      <td>100</td>\n",
       "      <td>7.40</td>\n",
       "    </tr>\n",
       "    <tr>\n",
       "      <th>145</th>\n",
       "      <td>3041732</td>\n",
       "      <td>Mariehamn</td>\n",
       "      <td>AX</td>\n",
       "      <td>60.0973</td>\n",
       "      <td>60.0973</td>\n",
       "      <td>26.46</td>\n",
       "      <td>100</td>\n",
       "      <td>0</td>\n",
       "      <td>1.14</td>\n",
       "    </tr>\n",
       "    <tr>\n",
       "      <th>61</th>\n",
       "      <td>3416888</td>\n",
       "      <td>Grindavik</td>\n",
       "      <td>IS</td>\n",
       "      <td>63.8424</td>\n",
       "      <td>63.8424</td>\n",
       "      <td>46.87</td>\n",
       "      <td>100</td>\n",
       "      <td>90</td>\n",
       "      <td>10.36</td>\n",
       "    </tr>\n",
       "    <tr>\n",
       "      <th>568</th>\n",
       "      <td>3095795</td>\n",
       "      <td>Kołobrzeg</td>\n",
       "      <td>PL</td>\n",
       "      <td>54.1757</td>\n",
       "      <td>54.1757</td>\n",
       "      <td>44.46</td>\n",
       "      <td>100</td>\n",
       "      <td>70</td>\n",
       "      <td>9.19</td>\n",
       "    </tr>\n",
       "    <tr>\n",
       "      <th>...</th>\n",
       "      <td>...</td>\n",
       "      <td>...</td>\n",
       "      <td>...</td>\n",
       "      <td>...</td>\n",
       "      <td>...</td>\n",
       "      <td>...</td>\n",
       "      <td>...</td>\n",
       "      <td>...</td>\n",
       "      <td>...</td>\n",
       "    </tr>\n",
       "    <tr>\n",
       "      <th>90</th>\n",
       "      <td>5478673</td>\n",
       "      <td>Meadow Lake</td>\n",
       "      <td>US</td>\n",
       "      <td>34.8014</td>\n",
       "      <td>34.8014</td>\n",
       "      <td>70.43</td>\n",
       "      <td>16</td>\n",
       "      <td>82</td>\n",
       "      <td>16.64</td>\n",
       "    </tr>\n",
       "    <tr>\n",
       "      <th>421</th>\n",
       "      <td>2439155</td>\n",
       "      <td>Tanout</td>\n",
       "      <td>NE</td>\n",
       "      <td>14.9709</td>\n",
       "      <td>14.9709</td>\n",
       "      <td>85.19</td>\n",
       "      <td>16</td>\n",
       "      <td>69</td>\n",
       "      <td>10.76</td>\n",
       "    </tr>\n",
       "    <tr>\n",
       "      <th>286</th>\n",
       "      <td>2447513</td>\n",
       "      <td>Arlit</td>\n",
       "      <td>NE</td>\n",
       "      <td>18.7369</td>\n",
       "      <td>18.7369</td>\n",
       "      <td>85.77</td>\n",
       "      <td>14</td>\n",
       "      <td>7</td>\n",
       "      <td>9.91</td>\n",
       "    </tr>\n",
       "    <tr>\n",
       "      <th>463</th>\n",
       "      <td>1160939</td>\n",
       "      <td>Iranshahr</td>\n",
       "      <td>IR</td>\n",
       "      <td>27.2025</td>\n",
       "      <td>27.2025</td>\n",
       "      <td>63.57</td>\n",
       "      <td>14</td>\n",
       "      <td>0</td>\n",
       "      <td>2.51</td>\n",
       "    </tr>\n",
       "    <tr>\n",
       "      <th>133</th>\n",
       "      <td>6696260</td>\n",
       "      <td>Matane</td>\n",
       "      <td>CA</td>\n",
       "      <td>48.8286</td>\n",
       "      <td>48.8286</td>\n",
       "      <td>43.84</td>\n",
       "      <td>11</td>\n",
       "      <td>100</td>\n",
       "      <td>6.91</td>\n",
       "    </tr>\n",
       "  </tbody>\n",
       "</table>\n",
       "<p>580 rows × 9 columns</p>\n",
       "</div>"
      ],
      "text/plain": [
       "     City ID         City Country  Latitude  Longitude  Temperature  Humidity  \\\n",
       "0    2126199     Cherskiy      RU   68.7500    68.7500        -6.03       100   \n",
       "155  5905393    Bonavista      CA   48.6499    48.6499        53.60       100   \n",
       "145  3041732    Mariehamn      AX   60.0973    60.0973        26.46       100   \n",
       "61   3416888    Grindavik      IS   63.8424    63.8424        46.87       100   \n",
       "568  3095795    Kołobrzeg      PL   54.1757    54.1757        44.46       100   \n",
       "..       ...          ...     ...       ...        ...          ...       ...   \n",
       "90   5478673  Meadow Lake      US   34.8014    34.8014        70.43        16   \n",
       "421  2439155       Tanout      NE   14.9709    14.9709        85.19        16   \n",
       "286  2447513        Arlit      NE   18.7369    18.7369        85.77        14   \n",
       "463  1160939    Iranshahr      IR   27.2025    27.2025        63.57        14   \n",
       "133  6696260       Matane      CA   48.8286    48.8286        43.84        11   \n",
       "\n",
       "     Cloudiness  Wind Speed  \n",
       "0            96        3.51  \n",
       "155         100        7.40  \n",
       "145           0        1.14  \n",
       "61           90       10.36  \n",
       "568          70        9.19  \n",
       "..          ...         ...  \n",
       "90           82       16.64  \n",
       "421          69       10.76  \n",
       "286           7        9.91  \n",
       "463           0        2.51  \n",
       "133         100        6.91  \n",
       "\n",
       "[580 rows x 9 columns]"
      ]
     },
     "execution_count": 64,
     "metadata": {},
     "output_type": "execute_result"
    }
   ],
   "source": [
    "# Sort values of cities that have humidity over 100%.\n",
    "\n",
    "weather_df.sort_values(['Humidity'],ascending = False)\n",
    "\n",
    "# There is none!"
   ]
  },
  {
   "cell_type": "code",
   "execution_count": 65,
   "metadata": {},
   "outputs": [
    {
     "data": {
      "text/html": [
       "<div>\n",
       "<style scoped>\n",
       "    .dataframe tbody tr th:only-of-type {\n",
       "        vertical-align: middle;\n",
       "    }\n",
       "\n",
       "    .dataframe tbody tr th {\n",
       "        vertical-align: top;\n",
       "    }\n",
       "\n",
       "    .dataframe thead th {\n",
       "        text-align: right;\n",
       "    }\n",
       "</style>\n",
       "<table border=\"1\" class=\"dataframe\">\n",
       "  <thead>\n",
       "    <tr style=\"text-align: right;\">\n",
       "      <th></th>\n",
       "      <th>City ID</th>\n",
       "      <th>City</th>\n",
       "      <th>Country</th>\n",
       "      <th>Latitude</th>\n",
       "      <th>Longitude</th>\n",
       "      <th>Temperature</th>\n",
       "      <th>Humidity</th>\n",
       "      <th>Cloudiness</th>\n",
       "      <th>Wind Speed</th>\n",
       "    </tr>\n",
       "  </thead>\n",
       "  <tbody>\n",
       "    <tr>\n",
       "      <th>212</th>\n",
       "      <td>2121025</td>\n",
       "      <td>Srednekolymsk</td>\n",
       "      <td>RU</td>\n",
       "      <td>67.4500</td>\n",
       "      <td>67.4500</td>\n",
       "      <td>-10.12</td>\n",
       "      <td>96</td>\n",
       "      <td>36</td>\n",
       "      <td>4.59</td>\n",
       "    </tr>\n",
       "    <tr>\n",
       "      <th>0</th>\n",
       "      <td>2126199</td>\n",
       "      <td>Cherskiy</td>\n",
       "      <td>RU</td>\n",
       "      <td>68.7500</td>\n",
       "      <td>68.7500</td>\n",
       "      <td>-6.03</td>\n",
       "      <td>100</td>\n",
       "      <td>96</td>\n",
       "      <td>3.51</td>\n",
       "    </tr>\n",
       "    <tr>\n",
       "      <th>411</th>\n",
       "      <td>2028164</td>\n",
       "      <td>Deputatsky</td>\n",
       "      <td>RU</td>\n",
       "      <td>69.3000</td>\n",
       "      <td>69.3000</td>\n",
       "      <td>-2.79</td>\n",
       "      <td>99</td>\n",
       "      <td>100</td>\n",
       "      <td>2.55</td>\n",
       "    </tr>\n",
       "    <tr>\n",
       "      <th>24</th>\n",
       "      <td>2126123</td>\n",
       "      <td>Chokurdakh</td>\n",
       "      <td>RU</td>\n",
       "      <td>70.6333</td>\n",
       "      <td>70.6333</td>\n",
       "      <td>-2.27</td>\n",
       "      <td>98</td>\n",
       "      <td>100</td>\n",
       "      <td>6.53</td>\n",
       "    </tr>\n",
       "    <tr>\n",
       "      <th>56</th>\n",
       "      <td>3831208</td>\n",
       "      <td>Qaanaaq</td>\n",
       "      <td>GL</td>\n",
       "      <td>77.4840</td>\n",
       "      <td>77.4840</td>\n",
       "      <td>-1.23</td>\n",
       "      <td>57</td>\n",
       "      <td>0</td>\n",
       "      <td>8.30</td>\n",
       "    </tr>\n",
       "    <tr>\n",
       "      <th>...</th>\n",
       "      <td>...</td>\n",
       "      <td>...</td>\n",
       "      <td>...</td>\n",
       "      <td>...</td>\n",
       "      <td>...</td>\n",
       "      <td>...</td>\n",
       "      <td>...</td>\n",
       "      <td>...</td>\n",
       "      <td>...</td>\n",
       "    </tr>\n",
       "    <tr>\n",
       "      <th>53</th>\n",
       "      <td>2457161</td>\n",
       "      <td>Gao</td>\n",
       "      <td>ML</td>\n",
       "      <td>16.6362</td>\n",
       "      <td>16.6362</td>\n",
       "      <td>87.64</td>\n",
       "      <td>35</td>\n",
       "      <td>87</td>\n",
       "      <td>8.12</td>\n",
       "    </tr>\n",
       "    <tr>\n",
       "      <th>443</th>\n",
       "      <td>3584003</td>\n",
       "      <td>Puerto El Triunfo</td>\n",
       "      <td>SV</td>\n",
       "      <td>13.2833</td>\n",
       "      <td>13.2833</td>\n",
       "      <td>87.69</td>\n",
       "      <td>83</td>\n",
       "      <td>63</td>\n",
       "      <td>3.20</td>\n",
       "    </tr>\n",
       "    <tr>\n",
       "      <th>336</th>\n",
       "      <td>3664980</td>\n",
       "      <td>Boa Vista</td>\n",
       "      <td>BR</td>\n",
       "      <td>2.8197</td>\n",
       "      <td>2.8197</td>\n",
       "      <td>87.78</td>\n",
       "      <td>58</td>\n",
       "      <td>75</td>\n",
       "      <td>5.75</td>\n",
       "    </tr>\n",
       "    <tr>\n",
       "      <th>170</th>\n",
       "      <td>3733380</td>\n",
       "      <td>Campoverde</td>\n",
       "      <td>PE</td>\n",
       "      <td>-8.4753</td>\n",
       "      <td>-8.4753</td>\n",
       "      <td>89.29</td>\n",
       "      <td>41</td>\n",
       "      <td>88</td>\n",
       "      <td>2.98</td>\n",
       "    </tr>\n",
       "    <tr>\n",
       "      <th>340</th>\n",
       "      <td>2245170</td>\n",
       "      <td>Podor</td>\n",
       "      <td>MR</td>\n",
       "      <td>16.6527</td>\n",
       "      <td>16.6527</td>\n",
       "      <td>89.55</td>\n",
       "      <td>31</td>\n",
       "      <td>59</td>\n",
       "      <td>0.00</td>\n",
       "    </tr>\n",
       "  </tbody>\n",
       "</table>\n",
       "<p>580 rows × 9 columns</p>\n",
       "</div>"
      ],
      "text/plain": [
       "     City ID               City Country  Latitude  Longitude  Temperature  \\\n",
       "212  2121025      Srednekolymsk      RU   67.4500    67.4500       -10.12   \n",
       "0    2126199           Cherskiy      RU   68.7500    68.7500        -6.03   \n",
       "411  2028164         Deputatsky      RU   69.3000    69.3000        -2.79   \n",
       "24   2126123         Chokurdakh      RU   70.6333    70.6333        -2.27   \n",
       "56   3831208            Qaanaaq      GL   77.4840    77.4840        -1.23   \n",
       "..       ...                ...     ...       ...        ...          ...   \n",
       "53   2457161                Gao      ML   16.6362    16.6362        87.64   \n",
       "443  3584003  Puerto El Triunfo      SV   13.2833    13.2833        87.69   \n",
       "336  3664980          Boa Vista      BR    2.8197     2.8197        87.78   \n",
       "170  3733380         Campoverde      PE   -8.4753    -8.4753        89.29   \n",
       "340  2245170              Podor      MR   16.6527    16.6527        89.55   \n",
       "\n",
       "     Humidity  Cloudiness  Wind Speed  \n",
       "212        96          36        4.59  \n",
       "0         100          96        3.51  \n",
       "411        99         100        2.55  \n",
       "24         98         100        6.53  \n",
       "56         57           0        8.30  \n",
       "..        ...         ...         ...  \n",
       "53         35          87        8.12  \n",
       "443        83          63        3.20  \n",
       "336        58          75        5.75  \n",
       "170        41          88        2.98  \n",
       "340        31          59        0.00  \n",
       "\n",
       "[580 rows x 9 columns]"
      ]
     },
     "execution_count": 65,
     "metadata": {},
     "output_type": "execute_result"
    }
   ],
   "source": [
    "weather_df.sort_values(['Temperature'],ascending = True)\n"
   ]
  },
  {
   "cell_type": "code",
   "execution_count": 71,
   "metadata": {},
   "outputs": [
    {
     "ename": "TypeError",
     "evalue": "cannot do positional indexing on RangeIndex with these indexers [['Latitude']] of type list",
     "output_type": "error",
     "traceback": [
      "\u001b[0;31m---------------------------------------------------------------------------\u001b[0m",
      "\u001b[0;31mTypeError\u001b[0m                                 Traceback (most recent call last)",
      "\u001b[0;32m<ipython-input-71-b64d8ac701bb>\u001b[0m in \u001b[0;36m<module>\u001b[0;34m\u001b[0m\n\u001b[0;32m----> 1\u001b[0;31m \u001b[0mweather_df\u001b[0m\u001b[0;34m.\u001b[0m\u001b[0mhead\u001b[0m\u001b[0;34m(\u001b[0m\u001b[0;34m[\u001b[0m\u001b[0;34m'Latitude'\u001b[0m\u001b[0;34m]\u001b[0m\u001b[0;34m)\u001b[0m\u001b[0;34m\u001b[0m\u001b[0;34m\u001b[0m\u001b[0m\n\u001b[0m",
      "\u001b[0;32m~/opt/anaconda3/lib/python3.8/site-packages/pandas/core/generic.py\u001b[0m in \u001b[0;36mhead\u001b[0;34m(self, n)\u001b[0m\n\u001b[1;32m   5065\u001b[0m         \u001b[0;36m5\u001b[0m     \u001b[0mparrot\u001b[0m\u001b[0;34m\u001b[0m\u001b[0;34m\u001b[0m\u001b[0m\n\u001b[1;32m   5066\u001b[0m         \"\"\"\n\u001b[0;32m-> 5067\u001b[0;31m         \u001b[0;32mreturn\u001b[0m \u001b[0mself\u001b[0m\u001b[0;34m.\u001b[0m\u001b[0miloc\u001b[0m\u001b[0;34m[\u001b[0m\u001b[0;34m:\u001b[0m\u001b[0mn\u001b[0m\u001b[0;34m]\u001b[0m\u001b[0;34m\u001b[0m\u001b[0;34m\u001b[0m\u001b[0m\n\u001b[0m\u001b[1;32m   5068\u001b[0m \u001b[0;34m\u001b[0m\u001b[0m\n\u001b[1;32m   5069\u001b[0m     \u001b[0;34m@\u001b[0m\u001b[0mfinal\u001b[0m\u001b[0;34m\u001b[0m\u001b[0;34m\u001b[0m\u001b[0m\n",
      "\u001b[0;32m~/opt/anaconda3/lib/python3.8/site-packages/pandas/core/indexing.py\u001b[0m in \u001b[0;36m__getitem__\u001b[0;34m(self, key)\u001b[0m\n\u001b[1;32m    893\u001b[0m \u001b[0;34m\u001b[0m\u001b[0m\n\u001b[1;32m    894\u001b[0m             \u001b[0mmaybe_callable\u001b[0m \u001b[0;34m=\u001b[0m \u001b[0mcom\u001b[0m\u001b[0;34m.\u001b[0m\u001b[0mapply_if_callable\u001b[0m\u001b[0;34m(\u001b[0m\u001b[0mkey\u001b[0m\u001b[0;34m,\u001b[0m \u001b[0mself\u001b[0m\u001b[0;34m.\u001b[0m\u001b[0mobj\u001b[0m\u001b[0;34m)\u001b[0m\u001b[0;34m\u001b[0m\u001b[0;34m\u001b[0m\u001b[0m\n\u001b[0;32m--> 895\u001b[0;31m             \u001b[0;32mreturn\u001b[0m \u001b[0mself\u001b[0m\u001b[0;34m.\u001b[0m\u001b[0m_getitem_axis\u001b[0m\u001b[0;34m(\u001b[0m\u001b[0mmaybe_callable\u001b[0m\u001b[0;34m,\u001b[0m \u001b[0maxis\u001b[0m\u001b[0;34m=\u001b[0m\u001b[0maxis\u001b[0m\u001b[0;34m)\u001b[0m\u001b[0;34m\u001b[0m\u001b[0;34m\u001b[0m\u001b[0m\n\u001b[0m\u001b[1;32m    896\u001b[0m \u001b[0;34m\u001b[0m\u001b[0m\n\u001b[1;32m    897\u001b[0m     \u001b[0;32mdef\u001b[0m \u001b[0m_is_scalar_access\u001b[0m\u001b[0;34m(\u001b[0m\u001b[0mself\u001b[0m\u001b[0;34m,\u001b[0m \u001b[0mkey\u001b[0m\u001b[0;34m:\u001b[0m \u001b[0mTuple\u001b[0m\u001b[0;34m)\u001b[0m\u001b[0;34m:\u001b[0m\u001b[0;34m\u001b[0m\u001b[0;34m\u001b[0m\u001b[0m\n",
      "\u001b[0;32m~/opt/anaconda3/lib/python3.8/site-packages/pandas/core/indexing.py\u001b[0m in \u001b[0;36m_getitem_axis\u001b[0;34m(self, key, axis)\u001b[0m\n\u001b[1;32m   1479\u001b[0m     \u001b[0;32mdef\u001b[0m \u001b[0m_getitem_axis\u001b[0m\u001b[0;34m(\u001b[0m\u001b[0mself\u001b[0m\u001b[0;34m,\u001b[0m \u001b[0mkey\u001b[0m\u001b[0;34m,\u001b[0m \u001b[0maxis\u001b[0m\u001b[0;34m:\u001b[0m \u001b[0mint\u001b[0m\u001b[0;34m)\u001b[0m\u001b[0;34m:\u001b[0m\u001b[0;34m\u001b[0m\u001b[0;34m\u001b[0m\u001b[0m\n\u001b[1;32m   1480\u001b[0m         \u001b[0;32mif\u001b[0m \u001b[0misinstance\u001b[0m\u001b[0;34m(\u001b[0m\u001b[0mkey\u001b[0m\u001b[0;34m,\u001b[0m \u001b[0mslice\u001b[0m\u001b[0;34m)\u001b[0m\u001b[0;34m:\u001b[0m\u001b[0;34m\u001b[0m\u001b[0;34m\u001b[0m\u001b[0m\n\u001b[0;32m-> 1481\u001b[0;31m             \u001b[0;32mreturn\u001b[0m \u001b[0mself\u001b[0m\u001b[0;34m.\u001b[0m\u001b[0m_get_slice_axis\u001b[0m\u001b[0;34m(\u001b[0m\u001b[0mkey\u001b[0m\u001b[0;34m,\u001b[0m \u001b[0maxis\u001b[0m\u001b[0;34m=\u001b[0m\u001b[0maxis\u001b[0m\u001b[0;34m)\u001b[0m\u001b[0;34m\u001b[0m\u001b[0;34m\u001b[0m\u001b[0m\n\u001b[0m\u001b[1;32m   1482\u001b[0m \u001b[0;34m\u001b[0m\u001b[0m\n\u001b[1;32m   1483\u001b[0m         \u001b[0;32mif\u001b[0m \u001b[0misinstance\u001b[0m\u001b[0;34m(\u001b[0m\u001b[0mkey\u001b[0m\u001b[0;34m,\u001b[0m \u001b[0mlist\u001b[0m\u001b[0;34m)\u001b[0m\u001b[0;34m:\u001b[0m\u001b[0;34m\u001b[0m\u001b[0;34m\u001b[0m\u001b[0m\n",
      "\u001b[0;32m~/opt/anaconda3/lib/python3.8/site-packages/pandas/core/indexing.py\u001b[0m in \u001b[0;36m_get_slice_axis\u001b[0;34m(self, slice_obj, axis)\u001b[0m\n\u001b[1;32m   1511\u001b[0m \u001b[0;34m\u001b[0m\u001b[0m\n\u001b[1;32m   1512\u001b[0m         \u001b[0mlabels\u001b[0m \u001b[0;34m=\u001b[0m \u001b[0mobj\u001b[0m\u001b[0;34m.\u001b[0m\u001b[0m_get_axis\u001b[0m\u001b[0;34m(\u001b[0m\u001b[0maxis\u001b[0m\u001b[0;34m)\u001b[0m\u001b[0;34m\u001b[0m\u001b[0;34m\u001b[0m\u001b[0m\n\u001b[0;32m-> 1513\u001b[0;31m         \u001b[0mlabels\u001b[0m\u001b[0;34m.\u001b[0m\u001b[0m_validate_positional_slice\u001b[0m\u001b[0;34m(\u001b[0m\u001b[0mslice_obj\u001b[0m\u001b[0;34m)\u001b[0m\u001b[0;34m\u001b[0m\u001b[0;34m\u001b[0m\u001b[0m\n\u001b[0m\u001b[1;32m   1514\u001b[0m         \u001b[0;32mreturn\u001b[0m \u001b[0mself\u001b[0m\u001b[0;34m.\u001b[0m\u001b[0mobj\u001b[0m\u001b[0;34m.\u001b[0m\u001b[0m_slice\u001b[0m\u001b[0;34m(\u001b[0m\u001b[0mslice_obj\u001b[0m\u001b[0;34m,\u001b[0m \u001b[0maxis\u001b[0m\u001b[0;34m=\u001b[0m\u001b[0maxis\u001b[0m\u001b[0;34m)\u001b[0m\u001b[0;34m\u001b[0m\u001b[0;34m\u001b[0m\u001b[0m\n\u001b[1;32m   1515\u001b[0m \u001b[0;34m\u001b[0m\u001b[0m\n",
      "\u001b[0;32m~/opt/anaconda3/lib/python3.8/site-packages/pandas/core/indexes/base.py\u001b[0m in \u001b[0;36m_validate_positional_slice\u001b[0;34m(self, key)\u001b[0m\n\u001b[1;32m   3319\u001b[0m         \"\"\"\n\u001b[1;32m   3320\u001b[0m         \u001b[0mself\u001b[0m\u001b[0;34m.\u001b[0m\u001b[0m_validate_indexer\u001b[0m\u001b[0;34m(\u001b[0m\u001b[0;34m\"positional\"\u001b[0m\u001b[0;34m,\u001b[0m \u001b[0mkey\u001b[0m\u001b[0;34m.\u001b[0m\u001b[0mstart\u001b[0m\u001b[0;34m,\u001b[0m \u001b[0;34m\"iloc\"\u001b[0m\u001b[0;34m)\u001b[0m\u001b[0;34m\u001b[0m\u001b[0;34m\u001b[0m\u001b[0m\n\u001b[0;32m-> 3321\u001b[0;31m         \u001b[0mself\u001b[0m\u001b[0;34m.\u001b[0m\u001b[0m_validate_indexer\u001b[0m\u001b[0;34m(\u001b[0m\u001b[0;34m\"positional\"\u001b[0m\u001b[0;34m,\u001b[0m \u001b[0mkey\u001b[0m\u001b[0;34m.\u001b[0m\u001b[0mstop\u001b[0m\u001b[0;34m,\u001b[0m \u001b[0;34m\"iloc\"\u001b[0m\u001b[0;34m)\u001b[0m\u001b[0;34m\u001b[0m\u001b[0;34m\u001b[0m\u001b[0m\n\u001b[0m\u001b[1;32m   3322\u001b[0m         \u001b[0mself\u001b[0m\u001b[0;34m.\u001b[0m\u001b[0m_validate_indexer\u001b[0m\u001b[0;34m(\u001b[0m\u001b[0;34m\"positional\"\u001b[0m\u001b[0;34m,\u001b[0m \u001b[0mkey\u001b[0m\u001b[0;34m.\u001b[0m\u001b[0mstep\u001b[0m\u001b[0;34m,\u001b[0m \u001b[0;34m\"iloc\"\u001b[0m\u001b[0;34m)\u001b[0m\u001b[0;34m\u001b[0m\u001b[0;34m\u001b[0m\u001b[0m\n\u001b[1;32m   3323\u001b[0m \u001b[0;34m\u001b[0m\u001b[0m\n",
      "\u001b[0;32m~/opt/anaconda3/lib/python3.8/site-packages/pandas/core/indexes/base.py\u001b[0m in \u001b[0;36m_validate_indexer\u001b[0;34m(self, form, key, kind)\u001b[0m\n\u001b[1;32m   5307\u001b[0m             \u001b[0;32mpass\u001b[0m\u001b[0;34m\u001b[0m\u001b[0;34m\u001b[0m\u001b[0m\n\u001b[1;32m   5308\u001b[0m         \u001b[0;32melse\u001b[0m\u001b[0;34m:\u001b[0m\u001b[0;34m\u001b[0m\u001b[0;34m\u001b[0m\u001b[0m\n\u001b[0;32m-> 5309\u001b[0;31m             \u001b[0;32mraise\u001b[0m \u001b[0mself\u001b[0m\u001b[0;34m.\u001b[0m\u001b[0m_invalid_indexer\u001b[0m\u001b[0;34m(\u001b[0m\u001b[0mform\u001b[0m\u001b[0;34m,\u001b[0m \u001b[0mkey\u001b[0m\u001b[0;34m)\u001b[0m\u001b[0;34m\u001b[0m\u001b[0;34m\u001b[0m\u001b[0m\n\u001b[0m\u001b[1;32m   5310\u001b[0m \u001b[0;34m\u001b[0m\u001b[0m\n\u001b[1;32m   5311\u001b[0m     \u001b[0;32mdef\u001b[0m \u001b[0m_maybe_cast_slice_bound\u001b[0m\u001b[0;34m(\u001b[0m\u001b[0mself\u001b[0m\u001b[0;34m,\u001b[0m \u001b[0mlabel\u001b[0m\u001b[0;34m,\u001b[0m \u001b[0mside\u001b[0m\u001b[0;34m:\u001b[0m \u001b[0mstr_t\u001b[0m\u001b[0;34m,\u001b[0m \u001b[0mkind\u001b[0m\u001b[0;34m)\u001b[0m\u001b[0;34m:\u001b[0m\u001b[0;34m\u001b[0m\u001b[0;34m\u001b[0m\u001b[0m\n",
      "\u001b[0;31mTypeError\u001b[0m: cannot do positional indexing on RangeIndex with these indexers [['Latitude']] of type list"
     ]
    }
   ],
   "source": [
    "weather_df.head(['Latitude'])"
   ]
  },
  {
   "cell_type": "markdown",
   "metadata": {},
   "source": [
    "## Plotting the Data\n",
    "* Use proper labeling of the plots using plot titles (including date of analysis) and axes labels.\n",
    "* Save the plotted figures as .pngs."
   ]
  },
  {
   "cell_type": "markdown",
   "metadata": {},
   "source": [
    "## Latitude vs. Temperature Plot"
   ]
  },
  {
   "cell_type": "code",
   "execution_count": 70,
   "metadata": {
    "scrolled": true
   },
   "outputs": [
    {
     "data": {
      "image/png": "[encoded data removed]",
      "text/plain": [
       "<Figure size 432x288 with 1 Axes>"
      ]
     },
     "metadata": {
      "needs_background": "light"
     },
     "output_type": "display_data"
    }
   ],
   "source": [
    "# Plot scatter plot\n",
    "x_values = weather_df['Latitude']\n",
    "y_values = weather_df['Temperature']\n",
    "plt.scatter('x_values','y_values')\n",
    "plt.title('City Latitude vs. Max Temperature')\n",
    "plt.xlabel('Latitude')\n",
    "plt.ylabel('Max Temperature (F)')\n",
    "plt.ylim(-10, 110)\n",
    "plt.xlim(-10, 110)\n",
    "plt.grid(which='major', linestyle='-')\n",
    "plt.grid(which='minor', linestyle=':')\n",
    "plt.tight_layout()\n",
    "plt.show()"
   ]
  },
  {
   "cell_type": "markdown",
   "metadata": {},
   "source": [
    "## Latitude vs. Humidity Plot"
   ]
  },
  {
   "cell_type": "code",
   "execution_count": 67,
   "metadata": {},
   "outputs": [
    {
     "data": {
      "image/png": "[encoded data removed]",
      "text/plain": [
       "<Figure size 432x288 with 1 Axes>"
      ]
     },
     "metadata": {
      "needs_background": "light"
     },
     "output_type": "display_data"
    }
   ],
   "source": [
    "# Plot scatter plot\n",
    "x_values = weather_df['Latitude']\n",
    "y_values = weather_df['Humidity']\n",
    "plt.scatter('x_values','y_values')\n",
    "plt.title('City Latitude vs. Max Humidity')\n",
    "plt.xlabel('Latitude')\n",
    "plt.ylabel('Max Humidity (F)')\n",
    "plt.grid(zorder=0)"
   ]
  },
  {
   "cell_type": "markdown",
   "metadata": {},
   "source": [
    "## Latitude vs. Cloudiness Plot"
   ]
  },
  {
   "cell_type": "code",
   "execution_count": 68,
   "metadata": {},
   "outputs": [
    {
     "data": {
      "image/png": "[encoded data removed]",
      "text/plain": [
       "<Figure size 432x288 with 1 Axes>"
      ]
     },
     "metadata": {
      "needs_background": "light"
     },
     "output_type": "display_data"
    }
   ],
   "source": [
    "# Plot scatter plot\n",
    "x_values = weather_df['Latitude']\n",
    "y_values = weather_df['Cloudiness']\n",
    "plt.scatter('x_values','y_values')\n",
    "plt.title('City Latitude vs. Max Cloudiness')\n",
    "plt.xlabel('Latitude')\n",
    "plt.ylabel('Max Cloudiness')\n",
    "plt.grid(zorder=0)"
   ]
  },
  {
   "cell_type": "markdown",
   "metadata": {},
   "source": [
    "## Latitude vs. Wind Speed Plot"
   ]
  },
  {
   "cell_type": "code",
   "execution_count": 69,
   "metadata": {},
   "outputs": [
    {
     "data": {
      "image/png": "[encoded data removed]",
      "text/plain": [
       "<Figure size 432x288 with 1 Axes>"
      ]
     },
     "metadata": {
      "needs_background": "light"
     },
     "output_type": "display_data"
    }
   ],
   "source": [
    "# Plot scatter plot\n",
    "x_values = weather_df['Latitude']\n",
    "y_values = weather_df['Wind Speed']\n",
    "plt.scatter('x_values','y_values')\n",
    "plt.title('City Latitude vs. Max Wind Speed')\n",
    "plt.xlabel('Latitude')\n",
    "plt.ylabel('Max Wind Speed')\n",
    "plt.grid(zorder=0)"
   ]
  },
  {
   "cell_type": "markdown",
   "metadata": {},
   "source": [
    "## Linear Regression"
   ]
  },
  {
   "cell_type": "code",
   "execution_count": null,
   "metadata": {},
   "outputs": [],
   "source": []
  },
  {
   "cell_type": "markdown",
   "metadata": {},
   "source": [
    "####  Northern Hemisphere - Max Temp vs. Latitude Linear Regression"
   ]
  },
  {
   "cell_type": "code",
   "execution_count": null,
   "metadata": {},
   "outputs": [],
   "source": []
  },
  {
   "cell_type": "markdown",
   "metadata": {},
   "source": [
    "####  Southern Hemisphere - Max Temp vs. Latitude Linear Regression"
   ]
  },
  {
   "cell_type": "code",
   "execution_count": null,
   "metadata": {},
   "outputs": [],
   "source": []
  },
  {
   "cell_type": "markdown",
   "metadata": {},
   "source": [
    "####  Northern Hemisphere - Humidity (%) vs. Latitude Linear Regression"
   ]
  },
  {
   "cell_type": "code",
   "execution_count": null,
   "metadata": {},
   "outputs": [],
   "source": []
  },
  {
   "cell_type": "markdown",
   "metadata": {},
   "source": [
    "####  Southern Hemisphere - Humidity (%) vs. Latitude Linear Regression"
   ]
  },
  {
   "cell_type": "code",
   "execution_count": null,
   "metadata": {},
   "outputs": [],
   "source": []
  },
  {
   "cell_type": "markdown",
   "metadata": {},
   "source": [
    "####  Northern Hemisphere - Cloudiness (%) vs. Latitude Linear Regression"
   ]
  },
  {
   "cell_type": "code",
   "execution_count": null,
   "metadata": {},
   "outputs": [],
   "source": []
  },
  {
   "cell_type": "markdown",
   "metadata": {},
   "source": [
    "####  Southern Hemisphere - Cloudiness (%) vs. Latitude Linear Regression"
   ]
  },
  {
   "cell_type": "code",
   "execution_count": null,
   "metadata": {},
   "outputs": [],
   "source": []
  },
  {
   "cell_type": "markdown",
   "metadata": {},
   "source": [
    "####  Northern Hemisphere - Wind Speed (mph) vs. Latitude Linear Regression"
   ]
  },
  {
   "cell_type": "code",
   "execution_count": null,
   "metadata": {},
   "outputs": [],
   "source": []
  },
  {
   "cell_type": "markdown",
   "metadata": {},
   "source": [
    "####  Southern Hemisphere - Wind Speed (mph) vs. Latitude Linear Regression"
   ]
  },
  {
   "cell_type": "code",
   "execution_count": null,
   "metadata": {},
   "outputs": [],
   "source": []
  },
  {
   "cell_type": "code",
   "execution_count": null,
   "metadata": {},
   "outputs": [],
   "source": []
  }
 ],
 "metadata": {
  "anaconda-cloud": {},
  "interpreter": {
   "hash": "b24d948cdaf5bf6c6be4301d429b6480aab63b3416c34025b032cb603c515a17"
  },
  "kernel_info": {
   "name": "python3"
  },
  "kernelspec": {
   "display_name": "Python 3.8.8 64-bit ('base': conda)",
   "name": "python3"
  },
  "language_info": {
   "codemirror_mode": {
    "name": "ipython",
    "version": 3
   },
   "file_extension": ".py",
   "mimetype": "text/x-python",
   "name": "python",
   "nbconvert_exporter": "python",
   "pygments_lexer": "ipython3",
   "version": "3.8.8"
  },
  "latex_envs": {
   "LaTeX_envs_menu_present": true,
   "autoclose": false,
   "autocomplete": true,
   "bibliofile": "biblio.bib",
   "cite_by": "apalike",
   "current_citInitial": 1,
   "eqLabelWithNumbers": true,
   "eqNumInitial": 1,
   "hotkeys": {
    "equation": "Ctrl-E",
    "itemize": "Ctrl-I"
   },
   "labels_anchors": false,
   "latex_user_defs": false,
   "report_style_numbering": false,
   "user_envs_cfg": false
  },
  "nteract": {
   "version": "0.12.3"
  }
 },
 "nbformat": 4,
 "nbformat_minor": 2
}
